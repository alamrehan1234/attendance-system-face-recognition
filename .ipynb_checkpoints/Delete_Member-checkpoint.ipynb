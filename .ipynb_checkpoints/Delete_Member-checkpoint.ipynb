{
 "cells": [
  {
   "cell_type": "code",
   "execution_count": 1,
   "id": "27dd4ce7-29c8-40fa-be9a-b311f01172ad",
   "metadata": {},
   "outputs": [],
   "source": [
    "import pandas as pd\n",
    "import numpy as np\n",
    "import redis"
   ]
  },
  {
   "cell_type": "code",
   "execution_count": 2,
   "id": "6edd9c4b-2e03-43fd-b692-245ad8f2015f",
   "metadata": {},
   "outputs": [],
   "source": [
    "hostname = 'redis-11969.c11.us-east-1-3.ec2.redns.redis-cloud.com'\n",
    "port = 11969\n",
    "password = 'AhrOKD0fBsLZW5KYxUK5hIwaRsjWtLFl'\n",
    "r = redis.Redis(\n",
    "                host=hostname,\n",
    "                port=port,\n",
    "                password=password)"
   ]
  },
  {
   "cell_type": "code",
   "execution_count": 3,
   "id": "856e17c6-9675-4b85-9618-ab95e6969d6f",
   "metadata": {},
   "outputs": [
    {
     "data": {
      "text/plain": [
       "True"
      ]
     },
     "execution_count": 3,
     "metadata": {},
     "output_type": "execute_result"
    }
   ],
   "source": [
    "r.ping()"
   ]
  },
  {
   "cell_type": "code",
   "execution_count": 5,
   "id": "d9c3683b-586b-455d-92eb-46bc7f6c3ea1",
   "metadata": {},
   "outputs": [
    {
     "data": {
      "text/plain": [
       "b'Morgan Freeman@Teacher'        b'\\xee\\x7f\\xf8>\\x87\\x87\\x1e\\xbfja\\xd0\\xbe\\xbe\\...\n",
       "b'hi@Student'                    b'G\\t\\x96=\\xf8`\\x81=\\xc9\\x15K=\\xb7u\\x9a=\\xe42\\...\n",
       "b'rocky@Student'                 b'7\\xe6_\\xbeI:\\xab\\xbf\\xa7*\\x18\\xbf\\xd4\\xe4\\x8...\n",
       "b'Scarlett Johansson@Student'    b'K\\xe9C>\\x8d\\x14\\xfa\\xbe\\x8eY\\xd8\\xbf\\xd3\\x81...\n",
       "b'Ravi@Teacher'                  b'\\x03\\xf0\\xb2>\\xc0q\\xbd\\xbf\\xe6\\x1f\\x05\\xbf$^...\n",
       "b'Asfar Ali@Student'             b'\\xad\\x13\\x15=|\\xa5T=\\x92m\\x02<\\x8e{H=\\xc4\\xe...\n",
       "b'Chris Evans@Student'           b')]8?\\x05\\xf5\\xbb\\xbf83G\\xbf\\xcc\\xe4\\xba\\xbf\\...\n",
       "b'Angelina Jolie@Student'        b'3f\\xdd>\\xae\\x94\\x89?\\xeb\\xb5\\x03\\xbeN\\xa9\\xe...\n",
       "b'Barack Obama@Teacher'          b'5\\xd6r?\\xa5\\xf3\\x0e\\xbf]1\\xc2=\\xde\\xcb\\xa3\\x...\n",
       "b'Shub@Student'                  b'H&\\\\\\xbb\\xdbq\\x80;\\x8e\\xc4>\\xbdlJ\\x14\\xbd\\x9...\n",
       "dtype: object"
      ]
     },
     "execution_count": 5,
     "metadata": {},
     "output_type": "execute_result"
    }
   ],
   "source": [
    "name = 'academy_register'\n",
    "register_series = pd.Series(r.hgetall(name))\n",
    "register_series"
   ]
  },
  {
   "cell_type": "code",
   "execution_count": 11,
   "id": "c1359f58-ae6f-49e7-9ce0-d9fc53f50c87",
   "metadata": {},
   "outputs": [
    {
     "data": {
      "text/plain": [
       "1"
      ]
     },
     "execution_count": 11,
     "metadata": {},
     "output_type": "execute_result"
    }
   ],
   "source": [
    "# delete command\n",
    "key_to_del = 'Ravi@Teacher'\n",
    "r.hdel(name,key_to_del)"
   ]
  },
  {
   "cell_type": "code",
   "execution_count": 12,
   "id": "952e997d-e3ae-4142-980b-af4bf8476416",
   "metadata": {},
   "outputs": [
    {
     "data": {
      "text/plain": [
       "b'Morgan Freeman@Teacher'        b'\\xee\\x7f\\xf8>\\x87\\x87\\x1e\\xbfja\\xd0\\xbe\\xbe\\...\n",
       "b'Scarlett Johansson@Student'    b'K\\xe9C>\\x8d\\x14\\xfa\\xbe\\x8eY\\xd8\\xbf\\xd3\\x81...\n",
       "b'Ravi@Teacher'                  b'\\x03\\xf0\\xb2>\\xc0q\\xbd\\xbf\\xe6\\x1f\\x05\\xbf$^...\n",
       "b'Chris Evans@Student'           b')]8?\\x05\\xf5\\xbb\\xbf83G\\xbf\\xcc\\xe4\\xba\\xbf\\...\n",
       "b'Angelina Jolie@Student'        b'3f\\xdd>\\xae\\x94\\x89?\\xeb\\xb5\\x03\\xbeN\\xa9\\xe...\n",
       "b'Barack Obama@Teacher'          b'5\\xd6r?\\xa5\\xf3\\x0e\\xbf]1\\xc2=\\xde\\xcb\\xa3\\x...\n",
       "dtype: object"
      ]
     },
     "execution_count": 12,
     "metadata": {},
     "output_type": "execute_result"
    }
   ],
   "source": [
    "register_series = pd.Series(r.hgetall(name))\n",
    "register_series"
   ]
  },
  {
   "cell_type": "code",
   "execution_count": null,
   "id": "28a0debe-3906-4d33-be2e-0ab22c09607a",
   "metadata": {},
   "outputs": [],
   "source": []
  }
 ],
 "metadata": {
  "kernelspec": {
   "display_name": "Python 3 (ipykernel)",
   "language": "python",
   "name": "python3"
  },
  "language_info": {
   "codemirror_mode": {
    "name": "ipython",
    "version": 3
   },
   "file_extension": ".py",
   "mimetype": "text/x-python",
   "name": "python",
   "nbconvert_exporter": "python",
   "pygments_lexer": "ipython3",
   "version": "3.10.9"
  }
 },
 "nbformat": 4,
 "nbformat_minor": 5
}
